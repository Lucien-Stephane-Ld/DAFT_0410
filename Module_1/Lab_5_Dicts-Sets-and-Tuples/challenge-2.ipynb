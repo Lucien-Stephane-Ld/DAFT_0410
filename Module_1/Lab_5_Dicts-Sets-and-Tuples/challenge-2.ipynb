{
 "cells": [
  {
   "cell_type": "markdown",
   "metadata": {},
   "source": [
    "## Challenge 2: Sets\n",
    "\n",
    "There are a lot to learn about Python Sets and the information presented in the lesson is limited due to its length. To learn Python Sets in depth you are strongly encouraged to review the W3Schools tutorial on [Python Sets Examples and Methods](https://www.w3schools.com/python/python_sets.asp) before you work on this lab. Some difficult questions in this lab have their solutions in the W3Schools tutorial.\n",
    "\n",
    "#### First, import the Python `random` library."
   ]
  },
  {
   "cell_type": "code",
   "execution_count": 1,
   "metadata": {},
   "outputs": [],
   "source": [
    "import random"
   ]
  },
  {
   "cell_type": "markdown",
   "metadata": {},
   "source": [
    "#### In the cell below, create a list named `sample_list_1` with 80 random values. \n",
    "\n",
    "Requirements:\n",
    "\n",
    "* Each value is an integer falling between 0 and 100.\n",
    "* Each value in the list is unique.\n",
    "\n",
    "Print `sample_list_1` to review its values\n",
    "\n",
    "*Hint: use `random.sample` ([reference](https://docs.python.org/3/library/random.html#random.sample)).*"
   ]
  },
  {
   "cell_type": "code",
   "execution_count": 21,
   "metadata": {},
   "outputs": [
    {
     "name": "stdout",
     "output_type": "stream",
     "text": [
      "[50, 23, 64, 47, 6, 53, 7, 42, 85, 84, 65, 33, 58, 81, 79, 32, 43, 28, 1, 25, 80, 38, 95, 73, 59, 22, 90, 19, 86, 0, 30, 51, 29, 18, 12, 94, 13, 96, 60, 8, 4, 69, 45, 35, 100, 36, 89, 88, 20, 57, 56, 91, 98, 17, 39, 24, 82, 75, 77, 10, 92, 99, 31, 48, 37, 67, 34, 72, 68, 76, 78, 61, 9, 2, 93, 11, 83, 16, 66, 52]\n"
     ]
    }
   ],
   "source": [
    "#my_randoms = random.sample(range(100), 10)\n",
    "# Your code here\n",
    "#sample_list_1 = [i for i in range(81)]\n",
    "sample_list_1 = random.sample(range(101),80)\n",
    "print(sample_list_1)"
   ]
  },
  {
   "cell_type": "markdown",
   "metadata": {},
   "source": [
    "#### Convert `sample_list_1` to a set called `set1`. Print the length of the set. Is its length still 80?"
   ]
  },
  {
   "cell_type": "code",
   "execution_count": 22,
   "metadata": {},
   "outputs": [
    {
     "name": "stdout",
     "output_type": "stream",
     "text": [
      "80\n",
      "{0, 1, 2, 4, 6, 7, 8, 9, 10, 11, 12, 13, 16, 17, 18, 19, 20, 22, 23, 24, 25, 28, 29, 30, 31, 32, 33, 34, 35, 36, 37, 38, 39, 42, 43, 45, 47, 48, 50, 51, 52, 53, 56, 57, 58, 59, 60, 61, 64, 65, 66, 67, 68, 69, 72, 73, 75, 76, 77, 78, 79, 80, 81, 82, 83, 84, 85, 86, 88, 89, 90, 91, 92, 93, 94, 95, 96, 98, 99, 100}\n",
      " \n",
      " Yes, the length of the set is still 80.\n"
     ]
    }
   ],
   "source": [
    "# Your code here\n",
    "print(len(sample_list_1))\n",
    "\n",
    "set1 = set(sample_list_1)\n",
    "print(set1)\n",
    "\n",
    "if len(set1) == 80:\n",
    "    print(' \\n Yes, the length of the set is still 80.')"
   ]
  },
  {
   "cell_type": "markdown",
   "metadata": {},
   "source": [
    "#### Create another list named `sample_list_2` with 80 random values.\n",
    "\n",
    "Requirements:\n",
    "\n",
    "* Each value is an integer falling between 0 and 100.\n",
    "* The values in the list don't have to be unique.\n",
    "\n",
    "*Hint: Use a FOR loop.*"
   ]
  },
  {
   "cell_type": "code",
   "execution_count": 23,
   "metadata": {},
   "outputs": [
    {
     "name": "stdout",
     "output_type": "stream",
     "text": [
      "[76, 100, 2, 59, 63, 11, 83, 37, 48, 30, 94, 15, 77, 43, 72, 32, 14, 6, 50, 63, 73, 20, 67, 94, 6, 50, 0, 91, 1, 17, 31, 13, 85, 59, 76, 57, 78, 24, 57, 81, 28, 54, 52, 15, 80, 88, 35, 92, 67, 21, 55, 48, 37, 83, 32, 78, 40, 64, 92, 19, 68, 70, 22, 74, 42, 96, 98, 80, 91, 39, 24, 24, 37, 90, 53, 97, 92, 32, 58, 85]\n",
      "80\n"
     ]
    }
   ],
   "source": [
    "# Your code here\n",
    "\n",
    "sample_list_2 = []\n",
    "\n",
    "for i in range(80):\n",
    "        n = random.randint(0,100) #generates a random integer between 0 and 100\n",
    "        sample_list_2.append(n)\n",
    "\n",
    "'''\n",
    "while len(sample_list_2)<80:\n",
    "    sample_list_2.append(random.sample(range(0,101),80))\n",
    "    if len(sample_list_2)>=80:\n",
    "        break\n",
    "        \n",
    "        \n",
    "randomlist = []\n",
    "for i in range(0,5):\n",
    "n = random.randint(1,30)\n",
    "randomlist.append(n)\n",
    "print(randomlist)\n",
    "\n",
    "'''\n",
    "print(sample_list_2)\n",
    "\n",
    "print(len(sample_list_2))"
   ]
  },
  {
   "cell_type": "markdown",
   "metadata": {},
   "source": [
    "#### Convert `sample_list_2` to a set called `set2`. Print the length of the set. Is its length still 80?"
   ]
  },
  {
   "cell_type": "code",
   "execution_count": 24,
   "metadata": {},
   "outputs": [
    {
     "name": "stdout",
     "output_type": "stream",
     "text": [
      "57\n",
      "Set2 is not equal to 80\n"
     ]
    }
   ],
   "source": [
    "# Your code here\n",
    "set2 = set(sample_list_2)\n",
    "print(len(set2))\n",
    "\n",
    "if len(set2)!=80:\n",
    "    print(\"Set2 is not equal to 80\")"
   ]
  },
  {
   "cell_type": "markdown",
   "metadata": {},
   "source": [
    "#### Identify the elements present in `set1` but not in `set2`. Assign the elements to a new set named `set3`."
   ]
  },
  {
   "cell_type": "code",
   "execution_count": 25,
   "metadata": {},
   "outputs": [
    {
     "name": "stdout",
     "output_type": "stream",
     "text": [
      "{4, 7, 8, 9, 10, 12, 16, 18, 23, 25, 29, 33, 34, 36, 38, 45, 47, 51, 56, 60, 61, 65, 66, 69, 75, 79, 82, 84, 86, 89, 93, 95, 99}\n"
     ]
    }
   ],
   "source": [
    "# Your code here\n",
    "set3 = set1 - set2\n",
    "print(set3)"
   ]
  },
  {
   "cell_type": "markdown",
   "metadata": {},
   "source": [
    "#### Identify the elements present in `set2` but not in `set1`. Assign the elements to a new set named `set4`."
   ]
  },
  {
   "cell_type": "code",
   "execution_count": 26,
   "metadata": {},
   "outputs": [
    {
     "name": "stdout",
     "output_type": "stream",
     "text": [
      "{97, 70, 40, 74, 14, 15, 21, 54, 55, 63}\n"
     ]
    }
   ],
   "source": [
    "# Your code here\n",
    "set4 = set2 - set1\n",
    "print(set4)"
   ]
  },
  {
   "cell_type": "markdown",
   "metadata": {},
   "source": [
    "#### Now Identify the elements shared between `set1` and `set2`. Assign the elements to a new set named `set5`."
   ]
  },
  {
   "cell_type": "code",
   "execution_count": 27,
   "metadata": {},
   "outputs": [
    {
     "name": "stdout",
     "output_type": "stream",
     "text": [
      "{0, 1, 2, 6, 11, 13, 17, 19, 20, 22, 24, 28, 30, 31, 32, 35, 37, 39, 42, 43, 48, 50, 52, 53, 57, 58, 59, 64, 67, 68, 72, 73, 76, 77, 78, 80, 81, 83, 85, 88, 90, 91, 92, 94, 96, 98, 100}\n",
      "{0, 1, 2, 6, 11, 13, 17, 19, 20, 22, 24, 28, 30, 31, 32, 35, 37, 39, 42, 43, 48, 50, 52, 53, 57, 58, 59, 64, 67, 68, 72, 73, 76, 77, 78, 80, 81, 83, 85, 88, 90, 91, 92, 94, 96, 98, 100}\n"
     ]
    }
   ],
   "source": [
    "# Your code here\n",
    "set5 = set1.intersection(set2)\n",
    "print(set5)\n",
    "\n",
    "set5 = set1&set2\n",
    "print(set5)"
   ]
  },
  {
   "cell_type": "markdown",
   "metadata": {},
   "source": [
    "#### What is the relationship among the following values:\n",
    "\n",
    "* len(set1)\n",
    "* len(set2)\n",
    "* len(set3)\n",
    "* len(set4)\n",
    "* len(set5)\n",
    "\n",
    "Use a math formular to represent that relationship. Test your formular with Python code."
   ]
  },
  {
   "cell_type": "code",
   "execution_count": 28,
   "metadata": {},
   "outputs": [
    {
     "name": "stdout",
     "output_type": "stream",
     "text": [
      "a= 80 b= 57 c= 33 d= 10 e= 47\n",
      "We have found a relationship between the sets \n",
      "e=a-c and b=b-e\n"
     ]
    }
   ],
   "source": [
    "# Your code here\n",
    "a = len(set1) #unique random values\n",
    "b = len(set2) #random values\n",
    "c = len(set3) #only in set1\n",
    "d = len(set4) #only in set2\n",
    "e = len(set5) #present in both sets\n",
    "#a>b>e>c>d:\n",
    "\n",
    "print(\"a=\",a,\"b=\",b,\"c=\",c,\"d=\",d,\"e=\",e)\n",
    "\n",
    "#therefore\n",
    "\n",
    "\n",
    "if e==a-c and d==b-e:\n",
    "    print(\"We have found a relationship between the sets \\ne=a-c and b=b-e\")"
   ]
  },
  {
   "cell_type": "markdown",
   "metadata": {},
   "source": [
    "#### Create an empty set called `set6`."
   ]
  },
  {
   "cell_type": "code",
   "execution_count": 44,
   "metadata": {},
   "outputs": [
    {
     "data": {
      "text/plain": [
       "set"
      ]
     },
     "execution_count": 44,
     "metadata": {},
     "output_type": "execute_result"
    }
   ],
   "source": [
    "# Your code here\n",
    "set6 = set()\n",
    "type(set6)"
   ]
  },
  {
   "cell_type": "markdown",
   "metadata": {},
   "source": [
    "#### Add `set3` and `set5` to `set6` using the Python Set `update` method."
   ]
  },
  {
   "cell_type": "code",
   "execution_count": 30,
   "metadata": {},
   "outputs": [
    {
     "name": "stdout",
     "output_type": "stream",
     "text": [
      "{0, 1, 2, 4, 6, 7, 8, 9, 10, 11, 12, 13, 16, 17, 18, 19, 20, 22, 23, 24, 25, 28, 29, 30, 31, 32, 33, 34, 35, 36, 37, 38, 39, 42, 43, 45, 47, 48, 50, 51, 52, 53, 56, 57, 58, 59, 60, 61, 64, 65, 66, 67, 68, 69, 72, 73, 75, 76, 77, 78, 79, 80, 81, 82, 83, 84, 85, 86, 88, 89, 90, 91, 92, 93, 94, 95, 96, 98, 99, 100}\n"
     ]
    }
   ],
   "source": [
    "# Your code here\n",
    "set6.update(set3,set5)\n",
    "print(set6)\n"
   ]
  },
  {
   "cell_type": "markdown",
   "metadata": {},
   "source": [
    "#### Check if `set1` and `set6` are equal."
   ]
  },
  {
   "cell_type": "code",
   "execution_count": 42,
   "metadata": {},
   "outputs": [
    {
     "name": "stdout",
     "output_type": "stream",
     "text": [
      "nope\n",
      "False\n"
     ]
    }
   ],
   "source": [
    "if set1!=set6:\n",
    "    print(\"nope\")\n",
    "else:\n",
    "    print(\"yup\")\n",
    "    \n",
    "# OR\n",
    "\n",
    "print(set1 == set6)"
   ]
  },
  {
   "cell_type": "markdown",
   "metadata": {},
   "source": [
    "#### Check if `set1` contains `set2` using the Python Set `issubset` method. Then check if `set1` contains `set3`.*"
   ]
  },
  {
   "cell_type": "code",
   "execution_count": 32,
   "metadata": {},
   "outputs": [
    {
     "name": "stdout",
     "output_type": "stream",
     "text": [
      "False\n",
      "True\n"
     ]
    }
   ],
   "source": [
    "# does set1, have set2 inside ?\n",
    "print(set2.issubset(set1))\n",
    "\n",
    "print(set3.issubset(set1))"
   ]
  },
  {
   "cell_type": "markdown",
   "metadata": {},
   "source": [
    "#### Using the Python Set `union` method, aggregate `set3`, `set4`, and `set5`. Then aggregate `set1` and `set2`. \n",
    "\n",
    "#### Check if the aggregated values are equal."
   ]
  },
  {
   "cell_type": "code",
   "execution_count": 45,
   "metadata": {},
   "outputs": [
    {
     "name": "stdout",
     "output_type": "stream",
     "text": [
      "{4, 7, 8, 9, 10, 12, 16, 18, 23, 25, 29, 33, 34, 36, 38, 45, 47, 51, 56, 60, 61, 65, 66, 69, 75, 79, 82, 84, 86, 89, 93, 95, 99} \n",
      "\n",
      "{2, 3, 4, 5, 6, 7, 8, 9, 10, 11, 12, 13, 14, 16, 17, 18, 19, 20, 21, 22, 23, 25, 26, 28, 30, 32, 33, 34, 35, 36, 37, 40, 41, 42, 43, 44, 46, 47, 48, 49, 50, 51, 53, 54, 55, 56, 57, 58, 59, 60, 61, 63, 64, 66, 68, 69, 71, 73, 74, 75, 76, 77, 78, 79, 80, 82, 83, 84, 85, 86, 87, 88, 89, 92, 93, 94, 98, 99, 100} \n",
      "\n",
      "nope, they ain't equal\n"
     ]
    }
   ],
   "source": [
    "#print(set3,\"\\n\")\n",
    "#print(set4,\"\\n\")\n",
    "#print(set5,\"\\n\")\n",
    "\n",
    "set3.union(set4,set5)\n",
    "print(set3,\"\\n\")\n",
    "\n",
    "set1.union(set2)\n",
    "print(set1,\"\\n\")\n",
    "\n",
    "if set3 == set1:\n",
    "    print(\"yup\")\n",
    "else:\n",
    "    print(\"nope, they ain't equal\")"
   ]
  },
  {
   "cell_type": "markdown",
   "metadata": {},
   "source": [
    "#### Using the `pop` method, remove the first element from `set1`."
   ]
  },
  {
   "cell_type": "code",
   "execution_count": 46,
   "metadata": {
    "scrolled": false
   },
   "outputs": [
    {
     "name": "stdout",
     "output_type": "stream",
     "text": [
      "{1, 2, 3, 4, 5, 6, 7, 8, 9, 10, 11, 12, 13, 14, 16, 17, 18, 19, 20, 21, 22, 23, 25, 26, 28, 30, 32, 33, 34, 35, 36, 37, 40, 41, 42, 43, 44, 46, 47, 48, 49, 50, 51, 53, 54, 55, 56, 57, 58, 59, 60, 61, 63, 64, 66, 68, 69, 71, 73, 74, 75, 76, 77, 78, 79, 80, 82, 83, 84, 85, 86, 87, 88, 89, 92, 93, 94, 98, 99, 100} \n",
      "\n",
      "80 \n",
      "\n",
      "{2, 3, 4, 5, 6, 7, 8, 9, 10, 11, 12, 13, 14, 16, 17, 18, 19, 20, 21, 22, 23, 25, 26, 28, 30, 32, 33, 34, 35, 36, 37, 40, 41, 42, 43, 44, 46, 47, 48, 49, 50, 51, 53, 54, 55, 56, 57, 58, 59, 60, 61, 63, 64, 66, 68, 69, 71, 73, 74, 75, 76, 77, 78, 79, 80, 82, 83, 84, 85, 86, 87, 88, 89, 92, 93, 94, 98, 99, 100} \n",
      "\n",
      "79 \n",
      "\n"
     ]
    }
   ],
   "source": [
    "# methode 1\n",
    "set1 = {1, 2, 3, 4, 5, 6, 7, 8, 9, 10, 11, 12, 13, 14, 16, 17, 18, 19, 20, 21, 22, 23, 25, 26, 28, 30, 32, 33, 34, 35, 36, 37, 40, 41, 42, 43, 44, 46, 47, 48, 49, 50, 51, 53, 54, 55, 56, 57, 58, 59, 60, 61, 63, 64, 66, 68, 69, 71, 73, 74, 75, 76, 77, 78, 79, 80, 82, 83, 84, 85, 86, 87, 88, 89, 92, 93, 94, 98, 99, 100} \n",
    "\n",
    "print(set1,\"\\n\")\n",
    "print(len(set1),\"\\n\")\n",
    "\n",
    "p = list(set1)\n",
    "#print(p,\"\\n\")\n",
    "p.pop(0)\n",
    "set1 = set(p)\n",
    "\n",
    "print(set1,\"\\n\")\n",
    "print(len(set1),\"\\n\")"
   ]
  },
  {
   "cell_type": "code",
   "execution_count": 48,
   "metadata": {},
   "outputs": [
    {
     "name": "stdout",
     "output_type": "stream",
     "text": [
      "{2, 3, 4, 5, 6, 7, 8, 9, 10, 11, 12, 13, 14, 16, 17, 18, 19, 20, 21, 22, 23, 25, 26, 28, 30, 32, 33, 34, 35, 36, 37, 40, 41, 42, 43, 44, 46, 47, 48, 49, 50, 51, 53, 54, 55, 56, 57, 58, 59, 60, 61, 63, 64, 66, 68, 69, 71, 73, 74, 75, 76, 77, 78, 79, 80, 82, 83, 84, 85, 86, 87, 88, 89, 92, 93, 94, 98, 99, 100}\n"
     ]
    }
   ],
   "source": [
    "#methode 2\n",
    "set1 = {1, 2, 3, 4, 5, 6, 7, 8, 9, 10, 11, 12, 13, 14, 16, 17, 18, 19, 20, 21, 22, 23, 25, 26, 28, 30, 32, 33, 34, 35, 36, 37, 40, 41, 42, 43, 44, 46, 47, 48, 49, 50, 51, 53, 54, 55, 56, 57, 58, 59, 60, 61, 63, 64, 66, 68, 69, 71, 73, 74, 75, 76, 77, 78, 79, 80, 82, 83, 84, 85, 86, 87, 88, 89, 92, 93, 94, 98, 99, 100} \n",
    "\n",
    "for i in range(len(set1)):\n",
    "    if i == 0:\n",
    "        set1.pop()\n",
    "        i += 1\n",
    "print(set1)"
   ]
  },
  {
   "cell_type": "markdown",
   "metadata": {},
   "source": [
    "#### Remove every element in the following list from `set1` if they are present in the set. Print the remaining elements.\n",
    "\n",
    "```\n",
    "list_to_remove = [1, 9, 11, 19, 21, 29, 31, 39, 41, 49, 51, 59, 61, 69, 71, 79, 81, 89, 91, 99]\n",
    "```"
   ]
  },
  {
   "cell_type": "code",
   "execution_count": 40,
   "metadata": {},
   "outputs": [
    {
     "name": "stdout",
     "output_type": "stream",
     "text": [
      "{2, 3, 4, 5, 6, 7, 8, 10, 12, 13, 14, 16, 17, 18, 20, 22, 23, 25, 26, 28, 30, 32, 33, 34, 35, 36, 37, 40, 42, 43, 44, 46, 47, 48, 50, 53, 54, 55, 56, 57, 58, 60, 63, 64, 66, 68, 73, 74, 75, 76, 77, 78, 80, 82, 83, 84, 85, 86, 87, 88, 92, 93, 94, 98, 100}\n"
     ]
    }
   ],
   "source": [
    "remove = [1, 9, 11, 19, 21, 29, 31, 39, 41, 49, 51, 59, 61, 69, 71, 79, 81, 89, 91, 99]\n",
    "\n",
    "r = set(remove)\n",
    "\n",
    "print(set1-r)"
   ]
  }
 ],
 "metadata": {
  "kernelspec": {
   "display_name": "Python 3 (ipykernel)",
   "language": "python",
   "name": "python3"
  },
  "language_info": {
   "codemirror_mode": {
    "name": "ipython",
    "version": 3
   },
   "file_extension": ".py",
   "mimetype": "text/x-python",
   "name": "python",
   "nbconvert_exporter": "python",
   "pygments_lexer": "ipython3",
   "version": "3.10.9"
  }
 },
 "nbformat": 4,
 "nbformat_minor": 2
}
