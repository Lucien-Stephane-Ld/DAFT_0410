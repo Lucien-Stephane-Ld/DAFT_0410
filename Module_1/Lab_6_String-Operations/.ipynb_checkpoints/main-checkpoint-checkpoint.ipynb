{
 "cells": [
  {
   "cell_type": "markdown",
   "metadata": {},
   "source": [
    "# Before your start:\n",
    "- Read the README.md file\n",
    "- Comment as much as you can and use the resources in the README.md file\n",
    "- Happy learning!"
   ]
  },
  {
   "cell_type": "markdown",
   "metadata": {},
   "source": [
    "# Challenge 1 - Combining Strings\n",
    "\n",
    "Combining strings is an important skill to acquire. There are multiple ways of combining strings in Python, as well as combining strings with variables. We will explore this in the first challenge. In the cell below, combine the strings in the list and add spaces between the strings (do not add a space after the last string). Insert a period after the last string."
   ]
  },
  {
   "cell_type": "code",
   "execution_count": 1,
   "metadata": {},
   "outputs": [
    {
     "name": "stdout",
     "output_type": "stream",
     "text": [
      "Durante un tiempo no estuvo segura de si su marido era su marido.\n"
     ]
    }
   ],
   "source": [
    "str_list = ['Durante', 'un', 'tiempo', 'no', 'estuvo', 'segura', 'de', 'si', 'su', 'marido', 'era', 'su', 'marido']\n",
    "\n",
    "sentence = list(str_list)\n",
    "sentence = ' '.join(str_list)+'.'\n",
    "\n",
    "print(sentence)"
   ]
  },
  {
   "cell_type": "markdown",
   "metadata": {},
   "source": [
    "In the cell below, use the list of strings to create a grocery list. Start the list with the string `Grocery list: ` and include a comma and a space between each item except for the last one. Include a period at the end. Only include foods in the list that start with the letter 'b' and ensure all foods are lower case."
   ]
  },
  {
   "cell_type": "code",
   "execution_count": 2,
   "metadata": {},
   "outputs": [],
   "source": [
    "food_list = ['Bananas', 'Chocolate', 'bread', 'diapers', 'Ice Cream', 'Brownie Mix', 'broccoli']\n",
    "\n",
    "#grocerylist = list(food_list)\n",
    "\n",
    "#grocerylist = ' '.join(grocerylist)\n",
    "\n",
    "#print(type(grocerylist))\n",
    "#print(grocerylist)"
   ]
  },
  {
   "cell_type": "code",
   "execution_count": 3,
   "metadata": {},
   "outputs": [
    {
     "name": "stdout",
     "output_type": "stream",
     "text": [
      "Grocery list: bananas, bread, brownie mix, broccoli.\n"
     ]
    }
   ],
   "source": [
    "#add in Grocery list only foods starting with \"b\"\n",
    "#all foods, lower case\n",
    "\n",
    "grocery_list = []\n",
    "\n",
    "for i in food_list:\n",
    "    if i.startswith(\"b\") or i.startswith(\"B\"):\n",
    "        grocery_list.append(i.lower())\n",
    "\n",
    "print(\"Grocery list:\",', '.join(grocery_list)+'.')\n",
    "\n",
    "#add foods to grocery list (seperated by \", \")"
   ]
  },
  {
   "cell_type": "markdown",
   "metadata": {},
   "source": [
    "In the cell below, write a function that computes the area of a circle using its radius. Compute the area of the circle and insert the radius and the area between the two strings. Make sure to include spaces between the variable and the strings. \n",
    "\n",
    "Note: You can use the techniques we have learned so far or use f-strings. F-strings allow us to embed code inside strings. You can read more about f-strings [here](https://www.python.org/dev/peps/pep-0498/)."
   ]
  },
  {
   "cell_type": "code",
   "execution_count": 4,
   "metadata": {},
   "outputs": [
    {
     "name": "stdout",
     "output_type": "stream",
     "text": [
      "The area of the circle with radius: 4.5 is: 63.61725123519331.\n"
     ]
    }
   ],
   "source": [
    "import math\n",
    "\n",
    "string1 = \"The area of the circle with radius:\"\n",
    "string2  = \"is:\"\n",
    "radius = 4.5\n",
    "\n",
    "def area(x, pi = math.pi):\n",
    "    y = pi*(radius**2)\n",
    "    return print(f'{string1} {radius} {string2} {float(y)}.')\n",
    "\n",
    "    \"\"\"\n",
    "    This function takes a radius and returns the area of a circle. \n",
    "    We also pass a default value for pi.\n",
    "    \n",
    "    Input: Float (and default value for pi)\n",
    "    Output: Float\n",
    "    \n",
    "    Sample input: 5.0\n",
    "    Sample Output: 78.53981633\n",
    "    \"\"\"\n",
    "    \n",
    "    # Your code here:\n",
    "area(radius, pi = math.pi)"
   ]
  },
  {
   "cell_type": "markdown",
   "metadata": {},
   "source": [
    "# Challenge 2 - Splitting Strings\n",
    "\n",
    "We have first looked at combining strings into one long string. There are times where we need to do the opposite and split the string into smaller components for further analysis. \n",
    "\n",
    "In the cell below, split the string into a list of strings using the space delimiter. Count the frequency of each word in the string in a dictionary. Strip the periods, line breaks and commas from the text. Make sure to remove empty strings from your dictionary."
   ]
  },
  {
   "cell_type": "code",
   "execution_count": 5,
   "metadata": {
    "scrolled": false
   },
   "outputs": [
    {
     "name": "stdout",
     "output_type": "stream",
     "text": [
      "['Some', 'say', 'the', 'world', 'will', 'end', 'in', 'fire', 'Some', 'say', 'in', 'ice', 'From', 'what', 'I’ve', 'tasted', 'of', 'desire', 'I', 'hold', 'with', 'those', 'who', 'favor', 'fire', 'But', 'if', 'it', 'had', 'to', 'perish', 'twice', 'I', 'think', 'I', 'know', 'enough', 'of', 'hate', 'To', 'say', 'that', 'for', 'destruction', 'ice', 'Is', 'also', 'great', 'And', 'would', 'suffice'] \n",
      "\n"
     ]
    },
    {
     "data": {
      "text/plain": [
       "{'Some': 2,\n",
       " 'say': 3,\n",
       " 'the': 1,\n",
       " 'world': 1,\n",
       " 'will': 1,\n",
       " 'end': 1,\n",
       " 'in': 2,\n",
       " 'fire': 2,\n",
       " 'ice': 2,\n",
       " 'From': 1,\n",
       " 'what': 1,\n",
       " 'I’ve': 1,\n",
       " 'tasted': 1,\n",
       " 'of': 2,\n",
       " 'desire': 1,\n",
       " 'I': 3,\n",
       " 'hold': 1,\n",
       " 'with': 1,\n",
       " 'those': 1,\n",
       " 'who': 1,\n",
       " 'favor': 1,\n",
       " 'But': 1,\n",
       " 'if': 1,\n",
       " 'it': 1,\n",
       " 'had': 1,\n",
       " 'to': 1,\n",
       " 'perish': 1,\n",
       " 'twice': 1,\n",
       " 'think': 1,\n",
       " 'know': 1,\n",
       " 'enough': 1,\n",
       " 'hate': 1,\n",
       " 'To': 1,\n",
       " 'that': 1,\n",
       " 'for': 1,\n",
       " 'destruction': 1,\n",
       " 'Is': 1,\n",
       " 'also': 1,\n",
       " 'great': 1,\n",
       " 'And': 1,\n",
       " 'would': 1,\n",
       " 'suffice': 1}"
      ]
     },
     "execution_count": 5,
     "metadata": {},
     "output_type": "execute_result"
    }
   ],
   "source": [
    "poem = \"\"\"Some say the world will end in fire,\n",
    "Some say in ice.\n",
    "From what I’ve tasted of desire\n",
    "I hold with those who favor fire.\n",
    "But if it had to perish twice,\n",
    "I think I know enough of hate\n",
    "To say that for destruction ice\n",
    "Is also great\n",
    "And would suffice.\"\"\"\n",
    "\n",
    "# Your code here:\n",
    "import re\n",
    "\n",
    "#split string into list of strings\n",
    "poem_words = poem.split()\n",
    "poem_words2 = []\n",
    "\n",
    "#print(poem_str)\n",
    "for i in poem_words:\n",
    "    x = i.strip('.,')\n",
    "    poem_words2.append(x)\n",
    "\n",
    "print(poem_words2,'\\n')\n",
    "\n",
    "#count the frequency of each word in the string, in a dictionary\n",
    "freq = {}\n",
    "\n",
    "for i in poem_words2:\n",
    "    if i in freq:\n",
    "        freq[i] += 1\n",
    "    else:\n",
    "        freq[i] = 1\n",
    "        \n",
    "freq"
   ]
  },
  {
   "cell_type": "markdown",
   "metadata": {},
   "source": [
    "In the cell below, find all the words that appear in the text and do not appear in the blacklist. You must parse the string but can choose any data structure you wish for the words that do not appear in the blacklist. Remove all non letter characters and convert all words to lower case."
   ]
  },
  {
   "cell_type": "code",
   "execution_count": 4,
   "metadata": {
    "scrolled": true
   },
   "outputs": [
    {
     "name": "stdout",
     "output_type": "stream",
     "text": [
      "This is set1 {'as', 'an', 'and', 'the', 'a', 'in', 'it'} \n",
      "\n",
      "This is set2 ['&', 'an', 'and', 'angry', 'apple', 'beheld', 'beneath', 'bore', 'both', 'bright.', 'day', 'deceitful', 'did', 'end.', 'fears,', 'foe', 'foe:', 'friend;', 'garden', 'glad', 'grew', 'grow.', 'had', 'he', 'i', 'in', 'into', 'it', 'knew', 'mine.', 'morning', 'my', 'night', 'night.', 'not,', 'outstretched', 'pole;', 'see;', 'shine,', 'smiles,', 'soft', 'stole,', 'sunned', 'tears:', 'that', 'the', 'till', 'told', 'tree.', 'veild', 'was', 'waterd', 'when', 'wiles.', 'with', 'wrath', 'wrath,'] \n",
      "\n",
      "This is set3 ['&', 'angry', 'apple', 'beheld', 'beneath', 'bore', 'both', 'bright.', 'day', 'deceitful', 'did', 'end.', 'fears,', 'foe', 'foe:', 'friend;', 'garden', 'glad', 'grew', 'grow.', 'had', 'he', 'i', 'into', 'knew', 'mine.', 'morning', 'my', 'night', 'night.', 'not,', 'outstretched', 'pole;', 'see;', 'shine,', 'smiles,', 'soft', 'stole,', 'sunned', 'tears:', 'that', 'till', 'told', 'tree.', 'veild', 'was', 'waterd', 'when', 'wiles.', 'with', 'wrath', 'wrath,'] \n",
      "\n",
      "['wrath', 'till', 'with', 'waterd', 'told', 'was', 'that', 'both', 'beneath', 'night', 'knew', 'morning', 'foe', 'garden', 'when', 'grew', 'outstretched', 'did', 'my', 'into', 'beheld', 'he', 'deceitful', 'had', 'angry', 'veild', 'soft', 'glad', 'day', 'i', 'sunned', 'apple', 'bore']\n",
      "52\n",
      "33\n"
     ]
    }
   ],
   "source": [
    "blacklist = ['and', 'as', 'an', 'a', 'the', 'in', 'it']\n",
    "\n",
    "poem = \"\"\"I was angry with my friend; \n",
    "I told my wrath, my wrath did end.\n",
    "I was angry with my foe: \n",
    "I told it not, my wrath did grow. \n",
    "\n",
    "And I waterd it in fears,\n",
    "Night & morning with my tears: \n",
    "And I sunned it with smiles,\n",
    "And with soft deceitful wiles. \n",
    "\n",
    "And it grew both day and night. \n",
    "Till it bore an apple bright. \n",
    "And my foe beheld it shine,\n",
    "And he knew that it was mine. \n",
    "\n",
    "And into my garden stole, \n",
    "When the night had veild the pole; \n",
    "In the morning glad I see; \n",
    "My foe outstretched beneath the tree.\"\"\"\n",
    "\n",
    "\n",
    "# Your code here:\n",
    "\n",
    "#find all the words that appear in the text and do not appear in the blacklist.\n",
    "import re\n",
    "\n",
    "#sort words from peom in set1\n",
    "set1 = set(blacklist)\n",
    "print(\"This is set1\",set1,'\\n')\n",
    "\n",
    "#sort words from blacklist in set2 & convert all words to lower case.\n",
    "poem_lower = poem.lower()\n",
    "set2 = set(poem_lower.split())\n",
    "print(\"This is set2\",sorted(set2),'\\n')\n",
    "\n",
    "\n",
    "#trouver les mots qui sont dans le texte et PAS dans la blacklist\n",
    "set3 = set2-set1\n",
    "print(\"This is set3\",sorted(set3),'\\n')\n",
    "\n",
    "\n",
    "#Remove all non letter characters\n",
    "output = []\n",
    "set_list = list(set3)\n",
    "\n",
    "for i in set_list:\n",
    "    if i.isalpha() == True:\n",
    "        output.append(i)\n",
    "print(output)\n",
    "\n",
    "print(len(set3))\n",
    "print(len(output))"
   ]
  },
  {
   "cell_type": "code",
   "execution_count": null,
   "metadata": {},
   "outputs": [],
   "source": [
    "#why am i losing that many elements in my final output ??"
   ]
  },
  {
   "cell_type": "code",
   "execution_count": 5,
   "metadata": {},
   "outputs": [
    {
     "name": "stdout",
     "output_type": "stream",
     "text": [
      "['I', 'was', 'angry', 'with', 'my', 'friend;', 'I', 'told', 'my', 'wrath,', 'my', 'wrath', 'did', 'end.', 'I', 'was', 'angry', 'with', 'my', 'foe:', 'I', 'told', 'it', 'not,', 'my', 'wrath', 'did', 'grow.', 'And', 'I', 'waterd', 'it', 'in', 'fears,', 'Night', '&', 'morning', 'with', 'my', 'tears:', 'And', 'I', 'sunned', 'it', 'with', 'smiles,', 'And', 'with', 'soft', 'deceitful', 'wiles.', 'And', 'it', 'grew', 'both', 'day', 'and', 'night.', 'Till', 'it', 'bore', 'an', 'apple', 'bright.', 'And', 'my', 'foe', 'beheld', 'it', 'shine,', 'And', 'he', 'knew', 'that', 'it', 'was', 'mine.', 'And', 'into', 'my', 'garden', 'stole,', 'When', 'the', 'night', 'had', 'veild', 'the', 'pole;', 'In', 'the', 'morning', 'glad', 'I', 'see;', 'My', 'foe', 'outstretched', 'beneath', 'the', 'tree.'] \n",
      "\n",
      "['i', 'was', 'angry', 'with', 'my', 'friend', 'i', 'told', 'my', 'wrath', 'my', 'wrath', 'did', 'end', 'i', 'was', 'angry', 'with', 'my', 'foe', 'i', 'told', 'not', 'my', 'wrath', 'did', 'grow', 'i', 'waterd', 'fears', 'night', '', 'morning', 'with', 'my', 'tears', 'i', 'sunned', 'with', 'smiles', 'with', 'soft', 'deceitful', 'wiles', 'grew', 'both', 'day', 'night', 'till', 'bore', 'apple', 'bright', 'my', 'foe', 'beheld', 'shine', 'he', 'knew', 'that', 'was', 'mine', 'into', 'my', 'garden', 'stole', 'when', 'night', 'had', 'veild', 'pole', 'morning', 'glad', 'i', 'see', 'my', 'foe', 'outstretched', 'beneath', 'tree'] \n",
      " 49\n"
     ]
    }
   ],
   "source": [
    "blacklist = ['and', 'as', 'an', 'a', 'the', 'in', 'it']\n",
    "\n",
    "poem = \"\"\"I was angry with my friend; \n",
    "I told my wrath, my wrath did end.\n",
    "I was angry with my foe: \n",
    "I told it not, my wrath did grow. \n",
    "\n",
    "And I waterd it in fears,\n",
    "Night & morning with my tears: \n",
    "And I sunned it with smiles,\n",
    "And with soft deceitful wiles. \n",
    "\n",
    "And it grew both day and night. \n",
    "Till it bore an apple bright. \n",
    "And my foe beheld it shine,\n",
    "And he knew that it was mine. \n",
    "\n",
    "And into my garden stole, \n",
    "When the night had veild the pole; \n",
    "In the morning glad I see; \n",
    "My foe outstretched beneath the tree.\"\"\"\n",
    "\n",
    "\n",
    "poem2 = poem.split()\n",
    "print(poem2,'\\n')\n",
    "#pour item dans la longueur de poem2,\n",
    "#l'item = la jointure de poem2 que si les items (c) DANS les items de poem2 sont des alphonumériques\n",
    "for i in range(len(poem2)):\n",
    "    poem2[i]=\"\".join(c for c in poem2[i] if c.isalpha())\n",
    "\n",
    "    \n",
    "list_words = []\n",
    "\n",
    "for item in poem2:\n",
    "    if item.lower() not in blacklist:\n",
    "        list_words.append(item.lower())\n",
    "        \n",
    "print(list_words, '\\n', len(set(list_words)))\n"
   ]
  },
  {
   "cell_type": "code",
   "execution_count": 6,
   "metadata": {},
   "outputs": [
    {
     "name": "stdout",
     "output_type": "stream",
     "text": [
      "['I', 'was', 'angry', 'with', 'my', 'friend', '', '', 'I', 'told', 'my', 'wrath', '', 'my', 'wrath', 'did', 'end', '', 'I', 'was', 'angry', 'with', 'my', 'foe', '', '', 'I', 'told', 'it', 'not', '', 'my', 'wrath', 'did', 'grow', '', '', '', 'And', 'I', 'waterd', 'it', 'in', 'fears', '', 'Night', '', '', 'morning', 'with', 'my', 'tears', '', '', 'And', 'I', 'sunned', 'it', 'with', 'smiles', '', 'And', 'with', 'soft', 'deceitful', 'wiles', '', '', '', 'And', 'it', 'grew', 'both', 'day', 'and', 'night', '', '', 'Till', 'it', 'bore', 'an', 'apple', 'bright', '', '', 'And', 'my', 'foe', 'beheld', 'it', 'shine', '', 'And', 'he', 'knew', 'that', 'it', 'was', 'mine', '', '', '', 'And', 'into', 'my', 'garden', 'stole', '', '', 'When', 'the', 'night', 'had', 'veild', 'the', 'pole', '', '', 'In', 'the', 'morning', 'glad', 'I', 'see', '', '', 'My', 'foe', 'outstretched', 'beneath', 'the', 'tree', ''] \n",
      "\n",
      "{'wrath', 'with', 'smiles', 'waterd', 'told', 'And', 'was', 'end', 'that', 'both', 'pole', 'When', 'night', 'beneath', 'knew', 'morning', 'foe', 'garden', 'friend', 'tears', 'grew', 'outstretched', 'did', 'my', 'mine', 'into', 'beheld', 'wiles', 'he', 'stole', 'deceitful', 'had', 'angry', 'tree', 'grow', 'I', 'not', 'fears', 'Till', 'veild', 'soft', 'glad', 'My', 'see', 'day', 'bright', 'In', 'shine', 'sunned', 'apple', 'bore', 'Night'} \n",
      "\n",
      "52\n"
     ]
    }
   ],
   "source": [
    "blacklist = ['and', 'as', 'an', 'a', 'the', 'in', 'it']\n",
    "\n",
    "poem = \"\"\"I was angry with my friend; \n",
    "I told my wrath, my wrath did end.\n",
    "I was angry with my foe: \n",
    "I told it not, my wrath did grow. \n",
    "\n",
    "And I waterd it in fears,\n",
    "Night & morning with my tears: \n",
    "And I sunned it with smiles,\n",
    "And with soft deceitful wiles. \n",
    "\n",
    "And it grew both day and night. \n",
    "Till it bore an apple bright. \n",
    "And my foe beheld it shine,\n",
    "And he knew that it was mine. \n",
    "\n",
    "And into my garden stole, \n",
    "When the night had veild the pole; \n",
    "In the morning glad I see; \n",
    "My foe outstretched beneath the tree.\"\"\"\n",
    "\n",
    "import re\n",
    "\n",
    "parsed = re.sub('\\W', ' ',poem).split(' ')\n",
    "print(parsed,'\\n')\n",
    "\n",
    "words = set([word for word in parsed if word != ''])\n",
    "filtered = words - set(blacklist)\n",
    "print(filtered, '\\n')\n",
    "print(len(filtered))"
   ]
  },
  {
   "cell_type": "code",
   "execution_count": null,
   "metadata": {},
   "outputs": [],
   "source": []
  }
 ],
 "metadata": {
  "kernelspec": {
   "display_name": "Python 3 (ipykernel)",
   "language": "python",
   "name": "python3"
  },
  "language_info": {
   "codemirror_mode": {
    "name": "ipython",
    "version": 3
   },
   "file_extension": ".py",
   "mimetype": "text/x-python",
   "name": "python",
   "nbconvert_exporter": "python",
   "pygments_lexer": "ipython3",
   "version": "3.10.9"
  },
  "varInspector": {
   "cols": {
    "lenName": 16,
    "lenType": 16,
    "lenVar": 40
   },
   "kernels_config": {
    "python": {
     "delete_cmd_postfix": "",
     "delete_cmd_prefix": "del ",
     "library": "var_list.py",
     "varRefreshCmd": "print(var_dic_list())"
    },
    "r": {
     "delete_cmd_postfix": ") ",
     "delete_cmd_prefix": "rm(",
     "library": "var_list.r",
     "varRefreshCmd": "cat(var_dic_list()) "
    }
   },
   "types_to_exclude": [
    "module",
    "function",
    "builtin_function_or_method",
    "instance",
    "_Feature"
   ],
   "window_display": false
  }
 },
 "nbformat": 4,
 "nbformat_minor": 2
}
