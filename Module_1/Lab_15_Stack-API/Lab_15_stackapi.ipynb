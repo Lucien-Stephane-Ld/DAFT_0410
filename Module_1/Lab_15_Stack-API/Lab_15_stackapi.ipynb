{
 "cells": [
  {
   "cell_type": "code",
   "execution_count": 2,
   "metadata": {},
   "outputs": [
    {
     "data": {
      "text/plain": [
       "1682358767.1185362"
      ]
     },
     "execution_count": 2,
     "metadata": {},
     "output_type": "execute_result"
    }
   ],
   "source": [
    "from stackapi import StackAPI\n",
    "SITE = StackAPI('stackoverflow')\n",
    "import requests\n",
    "import time; time.time() # imports current UNIX epoch time"
   ]
  },
  {
   "attachments": {},
   "cell_type": "markdown",
   "metadata": {},
   "source": [
    "#### Question 1: Find the questions and answers of last month."
   ]
  },
  {
   "cell_type": "code",
   "execution_count": 3,
   "metadata": {},
   "outputs": [],
   "source": [
    "from stackapi import StackAPI #import StackAPI, it's a list of sites that are grouped in this API\n",
    "SITE = StackAPI('stackoverflow') #calls wchich site from the StackAPI ( for full list of websites visit :  )\n",
    "from datetime import datetime"
   ]
  },
  {
   "cell_type": "code",
   "execution_count": 5,
   "metadata": {},
   "outputs": [],
   "source": [
    "questions = SITE.fetch('questions', min=datetime(2023, 3, 24), max=datetime(2023, 4, 24))"
   ]
  },
  {
   "cell_type": "code",
   "execution_count": 6,
   "metadata": {},
   "outputs": [
    {
     "data": {
      "text/plain": [
       "'Change style based on selected value with dynamic IDs Laravel'"
      ]
     },
     "execution_count": 6,
     "metadata": {},
     "output_type": "execute_result"
    }
   ],
   "source": [
    "questions['items'][0]['title'] # select the first (at index 0) question"
   ]
  },
  {
   "cell_type": "code",
   "execution_count": 16,
   "metadata": {},
   "outputs": [
    {
     "data": {
      "text/plain": [
       "{'owner': {'reputation': 3,\n",
       "  'user_id': 12408884,\n",
       "  'user_type': 'registered',\n",
       "  'profile_image': 'https://graph.facebook.com/10212027879292146/picture?type=large',\n",
       "  'display_name': 'Pasindu Hasanjaya Peiris',\n",
       "  'link': 'https://stackoverflow.com/users/12408884/pasindu-hasanjaya-peiris'},\n",
       " 'is_accepted': False,\n",
       " 'score': 0,\n",
       " 'last_activity_date': 1682294395,\n",
       " 'creation_date': 1682294395,\n",
       " 'answer_id': 76087825,\n",
       " 'question_id': 76084646,\n",
       " 'content_license': 'CC BY-SA 4.0'}"
      ]
     },
     "execution_count": 16,
     "metadata": {},
     "output_type": "execute_result"
    }
   ],
   "source": [
    "answers = SITE.fetch('answers', min=datetime(2023, 3, 24), max=datetime(2023, 4, 24))\n",
    "\n",
    "answers['items'][0]"
   ]
  },
  {
   "cell_type": "code",
   "execution_count": 7,
   "metadata": {},
   "outputs": [
    {
     "data": {
      "text/plain": [
       "['Change style based on selected value with dynamic IDs Laravel',\n",
       " 'Tensorflow Data API .map() Problems',\n",
       " 'Redirecting navbar elements in React',\n",
       " 'Grammar questions',\n",
       " 'raise TypeError(f&quot;img should be Tensor Image. Got {type(tensor)}&quot;)']"
      ]
     },
     "execution_count": 7,
     "metadata": {},
     "output_type": "execute_result"
    }
   ],
   "source": [
    "q_only = []\n",
    "\n",
    "# go through the returned file (aka questions variable), and in the 'items' key dictionary, and find the 'title' in the embedded dictionary.\n",
    "for i in questions['items']:\n",
    "    q_only.append(i['title'])\n",
    "\n",
    "q_only[0:5] # return 5 first items in list"
   ]
  },
  {
   "cell_type": "code",
   "execution_count": null,
   "metadata": {},
   "outputs": [],
   "source": [
    "# Stack API questions: \n",
    "\n",
    "from stackapi import StackAPI\n",
    "SITE = StackAPI('stackoverflow')\n",
    "from datetime import datetime\n",
    "\n",
    "#this lists last month questions from the database:\n",
    "questions = SITE.fetch('questions', min=datetime(2023, 3, 1), max=datetime(2023, 3, 31)) # OR using original Timstamp format: fromdate=1677625200, todate=1681901013\n",
    "\n",
    "#now I want to return only the actual question (i.e. 'title' in the json data):\n",
    "questions['items'][0]['title'] #this returns the 1st question! 🙂\n",
    "\n",
    "#now to iterate through the list of dictionaries in the \"items\" key:\n",
    "for item in questions[\"items\"]:\n",
    "    # access the value of the \"title\" key in each nested dictionary\n",
    "    print(item[\"title\"])"
   ]
  },
  {
   "attachments": {},
   "cell_type": "markdown",
   "metadata": {},
   "source": [
    "#### Question 2: Find the most voted question today with at least a score of 5 and tagged with 'python'. "
   ]
  },
  {
   "cell_type": "code",
   "execution_count": 11,
   "metadata": {},
   "outputs": [
    {
     "data": {
      "text/plain": [
       "'React DND accessing the target object from the drop function'"
      ]
     },
     "execution_count": 11,
     "metadata": {},
     "output_type": "execute_result"
    }
   ],
   "source": [
    "questions = SITE.fetch('questions', min=datetime(2023, 4, 24), max=datetime(2023, 4, 25), value = 'python')\n",
    "\n",
    "top_q = []\n",
    "\n",
    "for i in questions['items']:\n",
    "    top_q.append(i['title'])\n",
    "\n",
    "top_q[0]"
   ]
  },
  {
   "attachments": {},
   "cell_type": "markdown",
   "metadata": {},
   "source": [
    "#### Question 3: Find the answers with id 6784 and 6473."
   ]
  }
 ],
 "metadata": {
  "kernelspec": {
   "display_name": "Python 3",
   "language": "python",
   "name": "python3"
  },
  "language_info": {
   "codemirror_mode": {
    "name": "ipython",
    "version": 3
   },
   "file_extension": ".py",
   "mimetype": "text/x-python",
   "name": "python",
   "nbconvert_exporter": "python",
   "pygments_lexer": "ipython3",
   "version": "3.11.2"
  },
  "orig_nbformat": 4
 },
 "nbformat": 4,
 "nbformat_minor": 2
}
